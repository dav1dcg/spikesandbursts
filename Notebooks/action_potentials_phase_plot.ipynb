{
 "cells": [
  {
   "cell_type": "markdown",
   "id": "26a4639b-0b5c-420d-bda6-8361b383b255",
   "metadata": {},
   "source": [
    "# Phase-plane plot analysis\n",
    "\n",
    "This notebook shows how to create a phase-plane plot of action potential. To read the full tutorial, please visit [Patch-clamp data analysis in Python: action potentials](https://spikesandbursts.wordpress.com/2022/05/03/patch-clamp-analysis-python-action-potentials/) of the [Spikes and Bursts](https://spikesandbursts.wordpress.com/) blog.\n",
    "\n",
    "Differentials with numpy: https://numpy.org/doc/stable/reference/generated/numpy.diff.html\n",
    "\n",
    "How to define a create a function in Python: https://swcarpentry.github.io/python-novice-inflammation/08-func/index.html"
   ]
  },
  {
   "cell_type": "markdown",
   "id": "fa4e573d-0dee-479b-a36e-1236839c44e3",
   "metadata": {},
   "source": [
    "# Import the libraries"
   ]
  },
  {
   "cell_type": "code",
   "execution_count": null,
   "id": "08afa47a-077d-4ee4-ac0c-17bf76b4c1a8",
   "metadata": {},
   "outputs": [],
   "source": [
    "#Import the packages and load the data\n",
    "import pyabf\n",
    "import matplotlib.pyplot as plt \n",
    "import numpy as np\n",
    "import pandas as pd\n",
    "import os\n",
    "# import matplotlib as mpl"
   ]
  },
  {
   "cell_type": "markdown",
   "id": "bbe1ef8a-b831-4eed-8f87-4d32449a2ad3",
   "metadata": {},
   "source": [
    "# Create the paths"
   ]
  },
  {
   "cell_type": "code",
   "execution_count": null,
   "id": "75d8853d-9e16-494d-acfc-66ccae61051c",
   "metadata": {},
   "outputs": [],
   "source": [
    "notebook_name = 'action_potentials_phase_plot'\n",
    "\n",
    "# Data path to 'Data_example' folders. Change accordingly to your data structure.\n",
    "data_path = os.path.dirname(os.getcwd())  # Moves one level up from the current directory\n",
    "\n",
    "# Change the folder names accordingly\n",
    "paths = {'data':  f'{data_path}/Data',\n",
    "         'processed_data': f'{data_path}/Processed_data/{notebook_name}',\n",
    "         'analysis': f'{data_path}/Analysis/{notebook_name}'}\n",
    "\n",
    "# Make folders if they do not exist yet\n",
    "for path in paths.values():\n",
    "    os.makedirs(path, exist_ok=True)"
   ]
  },
  {
   "cell_type": "markdown",
   "id": "1c579c85-ef1b-4940-bab7-99c17aa740dc",
   "metadata": {},
   "source": [
    "# Load the data\n",
    "\n",
    "Example data for this notebooks is the file **pfc_pvalb_aps_02.abf**."
   ]
  },
  {
   "cell_type": "code",
   "execution_count": null,
   "id": "47de1221-9343-4ef5-8e84-08c04889d0ef",
   "metadata": {},
   "outputs": [],
   "source": [
    "# ABF file/s\n",
    "filename = \"pfc_pvalb_aps_02\"\n",
    "\n",
    "data_path = f\"{paths['data']}/{filename}.abf\" \n",
    "abf = pyabf.ABF(data_path)\n",
    "print(abf)\n",
    "\n",
    "# Quick plot to see the trace/s\n",
    "plt.figure(figsize=(8,4))\n",
    "\n",
    "for sweepNumber in abf.sweepList:\n",
    "    abf.setSweep(sweepNumber)\n",
    "    plt.plot(abf.sweepX, abf.sweepY)\n",
    "    plt.ylabel(abf.sweepLabelY)\n",
    "    plt.xlabel(abf.sweepLabelX)\n",
    "\n",
    "plt.show()"
   ]
  },
  {
   "cell_type": "markdown",
   "id": "d3275d5f-d916-4513-978b-5fd739ebca9b",
   "metadata": {},
   "source": [
    "# Function\n",
    "\n",
    "Read more about [creating functions](https://swcarpentry.github.io/python-novice-inflammation/08-func.html) from software carpentry.\n",
    "\n",
    "* [numpy.diff](https://numpy.org/doc/stable/reference/generated/numpy.diff.html) documentation."
   ]
  },
  {
   "cell_type": "code",
   "execution_count": null,
   "id": "5bd780bf-fec7-4164-8785-35dad296262a",
   "metadata": {},
   "outputs": [],
   "source": [
    "# Function to calculate dv/dt\n",
    "def dv_dt (abf, sweep, sampling_rate, half_window_ms):\n",
    "    \n",
    "    # Select the trace in your recording\n",
    "    sweep = abf.setSweep(sweepNumber=sweep, channel=0)\n",
    "    \n",
    "    # Identify the action potential with highest dV\n",
    "    dv = np.diff(abf.sweepY)\n",
    "    dv_max_idx = np.argmax(dv)  # index of max dV/dt\n",
    "    \n",
    "    # Set the time window for the selected action potential\n",
    "    sampling_rate = sampling_rate\n",
    "    half_window_ms = half_window_ms\n",
    "    half_window = (half_window_ms * sampling_rate)//1000\n",
    "    global t_window\n",
    "    t_window = abf.sweepX[dv_max_idx-half_window:dv_max_idx+half_window]\n",
    "    v_window = abf.sweepY[dv_max_idx-half_window:dv_max_idx+half_window]\n",
    "    \n",
    "    # Calculate dv_dt for the selected action potential\n",
    "    dv_ap = np.diff(v_window)\n",
    "    dt_ap = np.diff(t_window*1000)\n",
    "    dv_dt = (dv_ap)/(dt_ap)\n",
    "    dv_dt_max = np.amax(dv_dt)\n",
    "    # Remove the first v value to match the dv/dt array which is n-1\n",
    "    v_ap_array = np.delete(v_window, 1)\n",
    "    \n",
    "    # Return the selected outputs from the function\n",
    "    return {'voltage': v_window, \n",
    "            'dv_dt': dv_dt, \n",
    "            'dv_dt_max': dv_dt_max, \n",
    "            'dv_dt_max_idx': dv_max_idx, \n",
    "            'time': t_window,\n",
    "            'voltage_array': v_ap_array}"
   ]
  },
  {
   "cell_type": "markdown",
   "id": "848f4d3e-35e7-4597-adc2-36d4c0625b4d",
   "metadata": {},
   "source": [
    "# Results"
   ]
  },
  {
   "cell_type": "code",
   "execution_count": null,
   "id": "13dbfdfb-f153-4eb4-9a31-b2fcde1ab76f",
   "metadata": {},
   "outputs": [],
   "source": [
    "# Sweep of the first action potential\n",
    "sweep_number = 4\n",
    "\n",
    "# Current step related to sweep_number\n",
    "abf.setSweep(sweep_number)\n",
    "current_step = np.max(abf.sweepC)\n",
    "\n",
    "# Sampling rate\n",
    "fs = int(abf.dataPointsPerMs * 1000)\n",
    "\n",
    "# Function inputs:  abf file, sweep number, sampling rate, half-window in ms\n",
    "dv_dt_results = dv_dt(abf, sweep_number, fs, 6)\n",
    "\n",
    "# Table with the voltage and dV/dt values\n",
    "table = pd.DataFrame(columns = ['voltage', 'dv_dt'])  \n",
    "table.voltage = pd.DataFrame(dv_dt_results['voltage'])\n",
    "table.dv_dt = pd.DataFrame(dv_dt_results['dv_dt'])\n",
    "\n",
    "# Graphs\n",
    "fig, (ax1, ax2, ax3) = plt.subplots(1, 3, figsize=(14, 4))\n",
    "\n",
    "# All sweeps\n",
    "ax1.set_title('Trace')\n",
    "abf.setSweep(sweep_number)\n",
    "ax1.plot(abf.sweepX, abf.sweepY)\n",
    "ax1.set_ylabel(\"V (mV)\") \n",
    "ax1.set_xlabel(\"t (s)\")\n",
    "ax1.set_xlim(0.2, 0.8)\n",
    "\n",
    "# Plot a red dot at the detected AP\n",
    "dv_max_idx = dv_dt_results['dv_dt_max_idx']\n",
    "ax1.plot(abf.sweepX[dv_max_idx], abf.sweepY[dv_max_idx], 'ro', markersize=6)\n",
    "\n",
    "# Action potential\n",
    "ax2.set_title('Action potential')\n",
    "ax2.plot(dv_dt_results['time'], dv_dt_results['voltage'])\n",
    "ax2.set_ylabel(\"V (mV)\") \n",
    "ax2.set_xlabel(\"t (s)\")\n",
    "\n",
    "# Phase plot\n",
    "ax3.set_title('Phase-plane plot')\n",
    "ax3.plot(dv_dt_results['voltage_array'], dv_dt_results['dv_dt'])\n",
    "ax3.set_ylabel(\"dV/dt (mV/ms)\") \n",
    "ax3.set_xlabel(\"V (mV)\") \n",
    "\n",
    "fig.tight_layout()\n",
    "\n",
    "# Print the maximum dv/dt value, graph and table\n",
    "print(\"dv/dt max =\", dv_dt_results['dv_dt_max'])\n",
    "print(\"Current step =\", current_step)\n",
    "\n",
    "# Save the plot and the table\n",
    "fig.savefig(f\"{paths['analysis']}/{filename}_{current_step}pA_phase_plot.png\", dpi=300)\n",
    "table.to_csv(f\"{paths['analysis']}/{filename}_{current_step}pA_phase_plot.csv\", index=False)\n",
    "\n",
    "# Show the plots and table\n",
    "plt.show()\n",
    "table"
   ]
  },
  {
   "cell_type": "code",
   "execution_count": null,
   "id": "65dba739-04db-41fe-85df-a566a7e4b726",
   "metadata": {},
   "outputs": [],
   "source": []
  }
 ],
 "metadata": {
  "kernelspec": {
   "display_name": "Python 3",
   "language": "python",
   "name": "python3"
  },
  "language_info": {
   "codemirror_mode": {
    "name": "ipython",
    "version": 3
   },
   "file_extension": ".py",
   "mimetype": "text/x-python",
   "name": "python",
   "nbconvert_exporter": "python",
   "pygments_lexer": "ipython3",
   "version": "3.7.13"
  }
 },
 "nbformat": 4,
 "nbformat_minor": 5
}
